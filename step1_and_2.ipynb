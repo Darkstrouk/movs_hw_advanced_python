{
  "nbformat": 4,
  "nbformat_minor": 0,
  "metadata": {
    "colab": {
      "provenance": [],
      "collapsed_sections": [
        "o4NF_tNuqH8f",
        "ZZYXkvXXjeLv",
        "A76sgYhxjlIV",
        "d4kio6fTk1aM",
        "1KWqTc0wm_SW",
        "0yy5lhYOuMY3",
        "JG0VcxS3wToy"
      ]
    },
    "kernelspec": {
      "name": "python3",
      "display_name": "Python 3"
    },
    "language_info": {
      "name": "python"
    }
  },
  "cells": [
    {
      "cell_type": "markdown",
      "source": [
        "## ДЗ 1 (ОБЯЗАТЕЛЬНОЕ): Анализ температурных данных и мониторинг текущей температуры через OpenWeatherMap API\n",
        "\n",
        "**Описание задания:**  \n",
        "Вы аналитик в компании, занимающейся изучением климатических изменений и мониторингом температур в разных городах. Вам нужно провести анализ исторических данных о температуре для выявления сезонных закономерностей и аномалий. Также необходимо подключить API OpenWeatherMap для получения текущей температуры в выбранных городах и сравнить её с историческими данными.\n",
        "\n",
        "\n",
        "### Цели задания:\n",
        "1. Провести **анализ временных рядов**, включая:\n",
        "   - Вычисление скользящего среднего и стандартного отклонения для сглаживания температурных колебаний.\n",
        "   - Определение аномалий на основе отклонений температуры от $ \\text{скользящее среднее} \\pm 2\\sigma $.\n",
        "   - Построение долгосрочных трендов изменения температуры.\n",
        "   - Любые дополнительные исследования будут вам в плюс.\n",
        "\n",
        "2. Осуществить **мониторинг текущей температуры**:\n",
        "   - Получить текущую температуру через OpenWeatherMap API.\n",
        "   - Сравнить её с историческим нормальным диапазоном для текущего сезона.\n",
        "\n",
        "3. Разработать **интерактивное приложение**:\n",
        "   - Дать пользователю возможность выбрать город.\n",
        "   - Отобразить результаты анализа температур, включая временные ряды, сезонные профили и аномалии.\n",
        "   - Провести анализ текущей температуры в контексте исторических данных.\n",
        "\n",
        "\n",
        "### Описание данных\n",
        "Исторические данные о температуре содержатся в файле `temperature_data.csv`, включают:\n",
        "  - `city`: Название города.\n",
        "  - `timestamp`: Дата (с шагом в 1 день).\n",
        "  - `temperature`: Среднесуточная температура (в °C).\n",
        "  - `season`: Сезон года (зима, весна, лето, осень).\n",
        "\n",
        "Код для генерации файла вы найдете ниже.\n",
        "\n",
        "### Этапы выполнения\n",
        "\n",
        "1. **Анализ исторических данных**:\n",
        "   - Вычислить **скользящее среднее** температуры с окном в 30 дней для сглаживания краткосрочных колебаний.\n",
        "   - Рассчитать среднюю температуру и стандартное отклонение для каждого сезона в каждом городе.\n",
        "   - Выявить аномалии, где температура выходит за пределы $ \\text{среднее} \\pm 2\\sigma $.\n",
        "   - Попробуйте распараллелить проведение этого анализа. Сравните скорость выполнения анализа с распараллеливанием и без него.\n",
        "\n",
        "2. **Мониторинг текущей температуры**:\n",
        "   - Подключить OpenWeatherMap API для получения текущей температуры города. Для получения API Key (бесплатно) надо зарегистрироваться на сайте. Обратите внимание, что API Key может активироваться только через 2-3 часа, это нормально. Посему получите ключ заранее.\n",
        "   - Получить текущую температуру для выбранного города через OpenWeatherMap API.\n",
        "   - Определить, является ли текущая температура нормальной, исходя из исторических данных для текущего сезона.\n",
        "   - Данные на самом деле не совсем реальные (сюрпрайз). Поэтому на момент эксперимента погода в Берлине, Каире и Дубае была в рамках нормы, а в Пекине и Москве аномальная. Протестируйте свое решение для разных городов.\n",
        "   - Попробуйте для получения текущей температуры использовать синхронные и асинхронные методы. Что здесь лучше использовать?\n",
        "\n",
        "3. **Создание приложения на Streamlit**:\n",
        "   - Добавить интерфейс для загрузки файла с историческими данными.\n",
        "   - Добавить интерфейс для выбора города (из выпадающего списка).\n",
        "   - Добавить форму для ввода API-ключа OpenWeatherMap. Когда он не введен, данные для текущей погоды не показываются. Если ключ некорректный, выведите на экран ошибку (должно приходить `{\"cod\":401, \"message\": \"Invalid API key. Please see https://openweathermap.org/faq#error401 for more info.\"}`).\n",
        "   - Отобразить:\n",
        "     - Описательную статистику по историческим данным для города, можно добавить визуализации.\n",
        "     - Временной ряд температур с выделением аномалий (например, точками другого цвета).\n",
        "     - Сезонные профили с указанием среднего и стандартного отклонения.\n",
        "   - Вывести текущую температуру через API и указать, нормальна ли она для сезона.\n",
        "\n",
        "### Критерии оценивания\n",
        "\n",
        "- Корректное проведение анализа данных – 1 балл.\n",
        "- Исследование распараллеливания анализа – 1 балл.\n",
        "- Корректный поиск аномалий – 1 балл.\n",
        "- Подключение к API и корректность выполнения запроса – 1 балл.\n",
        "- Проведение эксперимента с синхронным и асинхронным способом запроса к API – 1 балл.\n",
        "- Создание интерфейса приложения streamlit в соответствии с описанием – 3 балла.\n",
        "- Корректное отображение графиков и статистик, а также сезонных профилей – 1 балл.\n",
        "- Корректный вывод текущей температуры в выбранном городе и проведение проверки на ее аномальность – 1 балл.\n",
        "- Любая дополнительная функциональность приветствуется и оценивается бонусными баллами (не более 2 в сумме) на усмотрение проверяющего.\n",
        "\n",
        "### Формат сдачи домашнего задания\n",
        "\n",
        "Решение нужно развернуть в Streamlit Cloud (бесплатно)\n",
        "\n",
        "*   Создаем новый репозиторий на GitHub.  \n",
        "*   Загружаем проект.\n",
        "*   Создаем аккаунт в [Streamlit Cloud](https://streamlit.io/cloud).\n",
        "*   Авторизуемся в Streamlit Cloud.\n",
        "*   Создаем новое приложение в Streamlit Cloud и подключаем GitHub-репозиторий.\n",
        "*   Deploy!\n",
        "\n",
        "Сдать в форму необходимо:\n",
        "1. Ссылку на развернутое в Streamlit Cloud приложение.\n",
        "2. Ссылку на код. Все выводы про, например, использование параллельности/асинхронности опишите в комментариях.\n",
        "\n",
        "Не забудьте удалить ключ API и иную чувствительную информацию.\n",
        "\n",
        "### Полезные ссылки\n",
        "*   [Оформление задачи Титаник на Streamlit](https://github.com/evgpat/streamlit_demo)\n",
        "*   [Документация Streamlit](https://docs.streamlit.io/)\n",
        "*   [Блог о Streamlit](https://blog.streamlit.io/)"
      ],
      "metadata": {
        "id": "bVbHQbDDjw9i"
      }
    },
    {
      "cell_type": "code",
      "source": [
        "import pandas as pd\n",
        "import numpy as np\n",
        "\n",
        "# Реальные средние температуры (примерные данные) для городов по сезонам\n",
        "seasonal_temperatures = {\n",
        "    \"New York\": {\"winter\": 0, \"spring\": 10, \"summer\": 25, \"autumn\": 15},\n",
        "    \"London\": {\"winter\": 5, \"spring\": 11, \"summer\": 18, \"autumn\": 12},\n",
        "    \"Paris\": {\"winter\": 4, \"spring\": 12, \"summer\": 20, \"autumn\": 13},\n",
        "    \"Tokyo\": {\"winter\": 6, \"spring\": 15, \"summer\": 27, \"autumn\": 18},\n",
        "    \"Moscow\": {\"winter\": -10, \"spring\": 5, \"summer\": 18, \"autumn\": 8},\n",
        "    \"Sydney\": {\"winter\": 12, \"spring\": 18, \"summer\": 25, \"autumn\": 20},\n",
        "    \"Berlin\": {\"winter\": 0, \"spring\": 10, \"summer\": 20, \"autumn\": 11},\n",
        "    \"Beijing\": {\"winter\": -2, \"spring\": 13, \"summer\": 27, \"autumn\": 16},\n",
        "    \"Rio de Janeiro\": {\"winter\": 20, \"spring\": 25, \"summer\": 30, \"autumn\": 25},\n",
        "    \"Dubai\": {\"winter\": 20, \"spring\": 30, \"summer\": 40, \"autumn\": 30},\n",
        "    \"Los Angeles\": {\"winter\": 15, \"spring\": 18, \"summer\": 25, \"autumn\": 20},\n",
        "    \"Singapore\": {\"winter\": 27, \"spring\": 28, \"summer\": 28, \"autumn\": 27},\n",
        "    \"Mumbai\": {\"winter\": 25, \"spring\": 30, \"summer\": 35, \"autumn\": 30},\n",
        "    \"Cairo\": {\"winter\": 15, \"spring\": 25, \"summer\": 35, \"autumn\": 25},\n",
        "    \"Mexico City\": {\"winter\": 12, \"spring\": 18, \"summer\": 20, \"autumn\": 15},\n",
        "}\n",
        "\n",
        "# Сопоставление месяцев с сезонами\n",
        "month_to_season = {12: \"winter\", 1: \"winter\", 2: \"winter\",\n",
        "                   3: \"spring\", 4: \"spring\", 5: \"spring\",\n",
        "                   6: \"summer\", 7: \"summer\", 8: \"summer\",\n",
        "                   9: \"autumn\", 10: \"autumn\", 11: \"autumn\"}\n",
        "\n",
        "# Генерация данных о температуре\n",
        "def generate_realistic_temperature_data(cities, num_years=10):\n",
        "    dates = pd.date_range(start=\"2010-01-01\", periods=365 * num_years, freq=\"D\")\n",
        "    data = []\n",
        "\n",
        "    for city in cities:\n",
        "        for date in dates:\n",
        "            season = month_to_season[date.month]\n",
        "            mean_temp = seasonal_temperatures[city][season]\n",
        "            # Добавляем случайное отклонение\n",
        "            temperature = np.random.normal(loc=mean_temp, scale=5)\n",
        "            data.append({\"city\": city, \"timestamp\": date, \"temperature\": temperature})\n",
        "\n",
        "    df = pd.DataFrame(data)\n",
        "    df['season'] = df['timestamp'].dt.month.map(lambda x: month_to_season[x])\n",
        "    return df\n",
        "\n",
        "# Генерация данных\n",
        "data = generate_realistic_temperature_data(list(seasonal_temperatures.keys()))\n",
        "data.to_csv('temperature_data.csv', index=False)\n"
      ],
      "metadata": {
        "id": "SsrwTMhRj6dK"
      },
      "execution_count": null,
      "outputs": []
    },
    {
      "cell_type": "markdown",
      "source": [
        "# Этап 1 - Анализ исторических данных"
      ],
      "metadata": {
        "id": "tQA5APhWiAdH"
      }
    },
    {
      "cell_type": "markdown",
      "source": [
        "### Загрузка данных и импорты"
      ],
      "metadata": {
        "id": "o4NF_tNuqH8f"
      }
    },
    {
      "cell_type": "code",
      "source": [
        "import numpy as np\n",
        "from scipy.stats import zscore\n",
        "import multiprocessing as mp"
      ],
      "metadata": {
        "id": "FPMke4hsiMd8"
      },
      "execution_count": null,
      "outputs": []
    },
    {
      "cell_type": "code",
      "source": [
        "data = pd.read_csv('temperature_data.csv')"
      ],
      "metadata": {
        "id": "f3BVOBk1g1ZK"
      },
      "execution_count": null,
      "outputs": []
    },
    {
      "cell_type": "code",
      "source": [
        "data"
      ],
      "metadata": {
        "id": "ZrxsUVJ6g28G"
      },
      "execution_count": null,
      "outputs": []
    },
    {
      "cell_type": "code",
      "source": [
        "data.shape"
      ],
      "metadata": {
        "id": "jXZKbVklkTMb"
      },
      "execution_count": null,
      "outputs": []
    },
    {
      "cell_type": "code",
      "source": [
        "data['timestamp'] = pd.to_datetime(data['timestamp'])"
      ],
      "metadata": {
        "id": "EWRMfHBbhFEa"
      },
      "execution_count": null,
      "outputs": []
    },
    {
      "cell_type": "markdown",
      "source": [
        "### скользящее среднее"
      ],
      "metadata": {
        "id": "ZZYXkvXXjeLv"
      }
    },
    {
      "cell_type": "code",
      "source": [
        "data['rolling_mean'] = data.groupby('city')['temperature'].rolling(window=30, min_periods=1).mean().reset_index(0, drop=True)"
      ],
      "metadata": {
        "id": "1jMSuzCJio_q"
      },
      "execution_count": null,
      "outputs": []
    },
    {
      "cell_type": "code",
      "source": [
        "data['rolling_mean']"
      ],
      "metadata": {
        "id": "Z-f75ogqi4dN"
      },
      "execution_count": null,
      "outputs": []
    },
    {
      "cell_type": "code",
      "source": [
        "data.shape"
      ],
      "metadata": {
        "id": "380SuuohkKHr"
      },
      "execution_count": null,
      "outputs": []
    },
    {
      "cell_type": "markdown",
      "source": [
        "### Cредняя температура и стандартное отклонение"
      ],
      "metadata": {
        "id": "A76sgYhxjlIV"
      }
    },
    {
      "cell_type": "code",
      "source": [
        "def calculate_seasonal_stats(group):\n",
        "    group['mean_temp'] = group['temperature'].mean()\n",
        "    group['std_temp'] = group['temperature'].std()\n",
        "    return group"
      ],
      "metadata": {
        "id": "SKt_6TTnjMcl"
      },
      "execution_count": null,
      "outputs": []
    },
    {
      "cell_type": "code",
      "source": [
        "grouped = data.groupby(['city', 'season'])"
      ],
      "metadata": {
        "id": "0vwXMEO9j2DA"
      },
      "execution_count": null,
      "outputs": []
    },
    {
      "cell_type": "code",
      "source": [
        "grouped"
      ],
      "metadata": {
        "id": "7Q_kFAG6kcCw"
      },
      "execution_count": null,
      "outputs": []
    },
    {
      "cell_type": "code",
      "source": [
        "data = grouped.apply(calculate_seasonal_stats).reset_index(drop=True)"
      ],
      "metadata": {
        "id": "jaPk1MvBj3no"
      },
      "execution_count": null,
      "outputs": []
    },
    {
      "cell_type": "code",
      "source": [
        "data.head(2)"
      ],
      "metadata": {
        "id": "febHsRLmkD3Z"
      },
      "execution_count": null,
      "outputs": []
    },
    {
      "cell_type": "code",
      "source": [
        "data.shape"
      ],
      "metadata": {
        "id": "pHv5jVZbkrRz"
      },
      "execution_count": null,
      "outputs": []
    },
    {
      "cell_type": "markdown",
      "source": [
        "### Выявление аномалий"
      ],
      "metadata": {
        "id": "d4kio6fTk1aM"
      }
    },
    {
      "cell_type": "code",
      "source": [
        "data['z_score'] = data.groupby(['city', 'season'])['temperature'].transform(zscore)\n",
        "data['anomaly'] = np.abs(data['z_score']) > 2"
      ],
      "metadata": {
        "id": "7-D998bkkkwI"
      },
      "execution_count": null,
      "outputs": []
    },
    {
      "cell_type": "code",
      "source": [
        "data[data['anomaly'] == True]"
      ],
      "metadata": {
        "id": "hMWYMCXHk6iX"
      },
      "execution_count": null,
      "outputs": []
    },
    {
      "cell_type": "markdown",
      "source": [
        "### Распараллеливание пайплайна"
      ],
      "metadata": {
        "id": "1KWqTc0wm_SW"
      }
    },
    {
      "cell_type": "code",
      "source": [
        "def process_city(city_data):\n",
        "    city_data['rolling_mean'] = city_data['temperature'].rolling(window=30, min_periods=1).mean()\n",
        "    city_data = city_data.groupby('season').apply(calculate_seasonal_stats).reset_index(drop=True)\n",
        "    city_data['z_score'] = city_data.groupby('season')['temperature'].transform(zscore)\n",
        "    city_data['anomaly'] = np.abs(city_data['z_score']) > 2\n",
        "    return city_data"
      ],
      "metadata": {
        "id": "8weh89XmnDkl"
      },
      "execution_count": null,
      "outputs": []
    },
    {
      "cell_type": "code",
      "source": [
        "cities = data['city'].unique()\n",
        "city_data_list = [data[data['city'] == city] for city in cities]"
      ],
      "metadata": {
        "id": "5WtQ1JmcnPUq"
      },
      "execution_count": null,
      "outputs": []
    },
    {
      "cell_type": "code",
      "source": [
        "with mp.Pool(mp.cpu_count()) as pool:\n",
        "    results = pool.map(process_city, city_data_list)\n",
        "data_parallel = pd.concat(results)\n"
      ],
      "metadata": {
        "id": "SLnWToJHnYhb"
      },
      "execution_count": null,
      "outputs": []
    },
    {
      "cell_type": "markdown",
      "source": [
        "### Сравним время"
      ],
      "metadata": {
        "id": "AKj2lE7Gppy1"
      }
    },
    {
      "cell_type": "code",
      "source": [
        "# 1 поточный подход"
      ],
      "metadata": {
        "id": "GIr-AyJrpw3g"
      },
      "execution_count": null,
      "outputs": []
    },
    {
      "cell_type": "code",
      "source": [
        "data = pd.read_csv('temperature_data.csv')\n",
        "data['timestamp'] = pd.to_datetime(data['timestamp'])"
      ],
      "metadata": {
        "id": "wIevvp4-p73V"
      },
      "execution_count": null,
      "outputs": []
    },
    {
      "cell_type": "code",
      "source": [
        "def calculate_seasonal_stats(group):\n",
        "    group['mean_temp'] = group['temperature'].mean()\n",
        "    group['std_temp'] = group['temperature'].std()\n",
        "    return group"
      ],
      "metadata": {
        "id": "Db-PTbqvraUe"
      },
      "execution_count": null,
      "outputs": []
    },
    {
      "cell_type": "code",
      "source": [
        "import time\n",
        "\n",
        "start_time = time.time()\n",
        "\n",
        "# скользящее среднеее\n",
        "data['rolling_mean'] = data.groupby('city')['temperature'].rolling(window=30, min_periods=1).mean().reset_index(0, drop=True)\n",
        "\n",
        "# среднее и стд\n",
        "\n",
        "grouped = data.groupby(['city', 'season'])\n",
        "data = grouped.apply(calculate_seasonal_stats).reset_index(drop=True)\n",
        "\n",
        "# аномалии\n",
        "data['z_score'] = data.groupby(['city', 'season'])['temperature'].transform(zscore)\n",
        "data['anomaly'] = np.abs(data['z_score']) > 2\n",
        "\n",
        "print(f\"Время выполнения без распараллеливания: {time.time() - start_time} секунд\")"
      ],
      "metadata": {
        "id": "BB5YdVepnbE-",
        "outputId": "968809a0-c6f1-4118-e063-8ff47bda7624",
        "colab": {
          "base_uri": "https://localhost:8080/"
        }
      },
      "execution_count": null,
      "outputs": [
        {
          "output_type": "stream",
          "name": "stdout",
          "text": [
            "Время выполнения без распараллеливания: 0.3018336296081543 секунд\n"
          ]
        },
        {
          "output_type": "stream",
          "name": "stderr",
          "text": [
            "<ipython-input-23-77dedd792672>:11: DeprecationWarning: DataFrameGroupBy.apply operated on the grouping columns. This behavior is deprecated, and in a future version of pandas the grouping columns will be excluded from the operation. Either pass `include_groups=False` to exclude the groupings or explicitly select the grouping columns after groupby to silence this warning.\n",
            "  data = grouped.apply(calculate_seasonal_stats).reset_index(drop=True)\n"
          ]
        }
      ]
    },
    {
      "cell_type": "code",
      "source": [
        "# параллельный подход"
      ],
      "metadata": {
        "id": "fkEKxjEDrMfH"
      },
      "execution_count": null,
      "outputs": []
    },
    {
      "cell_type": "code",
      "source": [
        "data = pd.read_csv('temperature_data.csv')\n",
        "data['timestamp'] = pd.to_datetime(data['timestamp'])"
      ],
      "metadata": {
        "id": "FNp7Dj-gn3lW"
      },
      "execution_count": null,
      "outputs": []
    },
    {
      "cell_type": "code",
      "source": [
        "def process_city(city_data):\n",
        "    # скользящее среднее\n",
        "    city_data['rolling_mean'] = city_data['temperature'].rolling(window=30, min_periods=1).mean()\n",
        "\n",
        "    # среднее и стд\n",
        "    def calculate_seasonal_stats(group):\n",
        "        group['mean_temp'] = group['temperature'].mean()\n",
        "        group['std_temp'] = group['temperature'].std()\n",
        "        return group\n",
        "\n",
        "    city_grouped = city_data.groupby('season')\n",
        "    city_data = city_grouped.apply(calculate_seasonal_stats).reset_index(drop=True)\n",
        "\n",
        "    # аномалии\n",
        "    city_data['z_score'] = city_data.groupby('season')['temperature'].transform(zscore)\n",
        "    city_data['anomaly'] = np.abs(city_data['z_score']) > 2\n",
        "\n",
        "    return city_data"
      ],
      "metadata": {
        "id": "SBMPBpvArQTZ"
      },
      "execution_count": null,
      "outputs": []
    },
    {
      "cell_type": "code",
      "source": [
        "cities = data['city'].unique()\n",
        "city_data_list = [data[data['city'] == city] for city in cities]"
      ],
      "metadata": {
        "id": "FdbhdWIOrn09"
      },
      "execution_count": null,
      "outputs": []
    },
    {
      "cell_type": "code",
      "source": [
        "mp.cpu_count()"
      ],
      "metadata": {
        "id": "iDMRUm8IsbLT"
      },
      "execution_count": null,
      "outputs": []
    },
    {
      "cell_type": "code",
      "source": [
        "start_time = time.time()\n",
        "with mp.Pool(mp.cpu_count()) as pool:\n",
        "    results = pool.map(process_city, city_data_list)\n",
        "data_parallel = pd.concat(results)\n",
        "print(f\"Время выполнения с распараллеливанием: {time.time() - start_time} секунд\")"
      ],
      "metadata": {
        "id": "XnY_9ppUrvui"
      },
      "execution_count": null,
      "outputs": []
    },
    {
      "cell_type": "markdown",
      "source": [
        "# Этап 2 - Мониторинг"
      ],
      "metadata": {
        "id": "tyy_KkkhuGVV"
      }
    },
    {
      "cell_type": "markdown",
      "source": [
        "### Данные и импорт"
      ],
      "metadata": {
        "id": "0yy5lhYOuMY3"
      }
    },
    {
      "cell_type": "code",
      "source": [
        "from datetime import datetime"
      ],
      "metadata": {
        "id": "WuWunGO-1LI5"
      },
      "execution_count": null,
      "outputs": []
    },
    {
      "cell_type": "code",
      "source": [
        "data = pd.read_csv('temperature_data.csv')\n",
        "data['timestamp'] = pd.to_datetime(data['timestamp'])"
      ],
      "metadata": {
        "id": "4t51SaXHuQgg"
      },
      "execution_count": null,
      "outputs": []
    },
    {
      "cell_type": "code",
      "source": [
        "def get_current_season():\n",
        "    month = datetime.now().month\n",
        "    if month in [12, 1, 2]:\n",
        "        return 'winter'\n",
        "    elif month in [3, 4, 5]:\n",
        "        return 'spring'\n",
        "    elif month in [6, 7, 8]:\n",
        "        return 'summer'\n",
        "    else:\n",
        "        return 'fall'"
      ],
      "metadata": {
        "id": "njNNx-OVuVQ2"
      },
      "execution_count": null,
      "outputs": []
    },
    {
      "cell_type": "markdown",
      "source": [
        "### текущая температуа для выбранного города через OpenWeatherMap API"
      ],
      "metadata": {
        "id": "3IuWwfnmuhPe"
      }
    },
    {
      "cell_type": "code",
      "source": [
        "import requests"
      ],
      "metadata": {
        "id": "c3YJvB0LvMSV"
      },
      "execution_count": null,
      "outputs": []
    },
    {
      "cell_type": "code",
      "source": [
        "api_key = '3b65a7da68820487bfc93641f20c780b'"
      ],
      "metadata": {
        "id": "SAu7fu73urOq"
      },
      "execution_count": null,
      "outputs": []
    },
    {
      "cell_type": "code",
      "source": [
        "def get_current_temperature(city, api_key):\n",
        "    url = f'http://api.openweathermap.org/data/2.5/weather?q={city}&units=metric&appid={api_key}'\n",
        "    response = requests.get(url)\n",
        "    if response.status_code == 200:\n",
        "        data = response.json()\n",
        "        return data['main']['temp']\n",
        "    else:\n",
        "        return None"
      ],
      "metadata": {
        "id": "-2S2Ky4Bulk3"
      },
      "execution_count": null,
      "outputs": []
    },
    {
      "cell_type": "code",
      "source": [
        "response.content"
      ],
      "metadata": {
        "id": "LHXQIFqywkku",
        "outputId": "faceb8ee-33e4-4275-d4ca-18b05145b29b",
        "colab": {
          "base_uri": "https://localhost:8080/"
        }
      },
      "execution_count": null,
      "outputs": [
        {
          "output_type": "execute_result",
          "data": {
            "text/plain": [
              "b'{\"coord\":{\"lon\":37.6156,\"lat\":55.7522},\"weather\":[{\"id\":804,\"main\":\"Clouds\",\"description\":\"overcast clouds\",\"icon\":\"04n\"}],\"base\":\"stations\",\"main\":{\"temp\":-0.19,\"feels_like\":-4.42,\"temp_min\":-0.76,\"temp_max\":-0.19,\"pressure\":1023,\"humidity\":63,\"sea_level\":1023,\"grnd_level\":1003},\"visibility\":10000,\"wind\":{\"speed\":3.86,\"deg\":214,\"gust\":10.14},\"clouds\":{\"all\":95},\"dt\":1733165985,\"sys\":{\"type\":2,\"id\":2095214,\"country\":\"RU\",\"sunrise\":1733117822,\"sunset\":1733144486},\"timezone\":10800,\"id\":524901,\"name\":\"Moscow\",\"cod\":200}'"
            ]
          },
          "metadata": {},
          "execution_count": 94
        }
      ]
    },
    {
      "cell_type": "code",
      "source": [
        "get_current_temperature(city='Moscow', api_key=api_key)"
      ],
      "metadata": {
        "id": "yyLfsfxsvF3W",
        "outputId": "fee810d8-6848-4f5c-cd16-b8500bcf9f6b",
        "colab": {
          "base_uri": "https://localhost:8080/"
        }
      },
      "execution_count": null,
      "outputs": [
        {
          "output_type": "execute_result",
          "data": {
            "text/plain": [
              "-0.12"
            ]
          },
          "metadata": {},
          "execution_count": 12
        }
      ]
    },
    {
      "cell_type": "markdown",
      "source": [
        "### Адекватность температуры (ха-ха)"
      ],
      "metadata": {
        "id": "JG0VcxS3wToy"
      }
    },
    {
      "cell_type": "code",
      "source": [
        "def is_temperature_normal(city, current_temp, current_season, historical_data):\n",
        "    season_data = historical_data[(historical_data['city'] == city) & (historical_data['season'] == current_season)]\n",
        "    if not season_data.empty:\n",
        "        mean_temp = season_data['mean_temp'].values[0]\n",
        "        std_temp = season_data['std_temp'].values[0]\n",
        "        lower_bound = mean_temp - 2 * std_temp\n",
        "        upper_bound = mean_temp + 2 * std_temp\n",
        "        if lower_bound <= current_temp <= upper_bound:\n",
        "            return True\n",
        "        else:\n",
        "            return False\n",
        "    else:\n",
        "        return None"
      ],
      "metadata": {
        "id": "9T_h21uMu37C"
      },
      "execution_count": null,
      "outputs": []
    },
    {
      "cell_type": "markdown",
      "source": [
        "### Синхронный вариант"
      ],
      "metadata": {
        "id": "Gj9MExwS0vAv"
      }
    },
    {
      "cell_type": "code",
      "source": [
        "def monitor_temperature_sync(cities, api_key, historical_data):\n",
        "    current_season = get_current_season()\n",
        "    for city in cities:\n",
        "        temp = get_current_temperature(city, api_key)\n",
        "        if temp is not None:\n",
        "            is_normal = is_temperature_normal(city, temp, current_season, historical_data)\n",
        "            print(f\"City: {city}, Current Temp: {temp}°C, Is Normal: {is_normal}\")\n",
        "        else:\n",
        "            print(f\"City: {city}, Unable to retrieve temperature.\")"
      ],
      "metadata": {
        "id": "QRWsbSdsvBQY"
      },
      "execution_count": null,
      "outputs": []
    },
    {
      "cell_type": "code",
      "source": [
        "cities = ['Berlin', 'Cairo', 'Dubai', 'Beijing', 'Moscow']\n",
        "monitor_temperature_sync(cities, api_key, data)"
      ],
      "metadata": {
        "colab": {
          "base_uri": "https://localhost:8080/"
        },
        "id": "aqsNgZth0_ay",
        "outputId": "e38ddad4-cc2e-41af-9758-11a1003fb4cd"
      },
      "execution_count": null,
      "outputs": [
        {
          "output_type": "stream",
          "name": "stdout",
          "text": [
            "City: Berlin, Current Temp: 5.79°C, Is Normal: True\n",
            "City: Cairo, Current Temp: 18.42°C, Is Normal: True\n",
            "City: Dubai, Current Temp: 24.96°C, Is Normal: True\n",
            "City: Beijing, Current Temp: -6.06°C, Is Normal: True\n",
            "City: Moscow, Current Temp: -0.12°C, Is Normal: False\n"
          ]
        }
      ]
    },
    {
      "cell_type": "markdown",
      "source": [
        "и правда - по Москве видно, что температура для зимы (да и для осени) аномальна"
      ],
      "metadata": {
        "id": "HSzpT_La1hvF"
      }
    },
    {
      "cell_type": "markdown",
      "source": [
        "### Асинхронный вариант"
      ],
      "metadata": {
        "id": "CyOmOS-w2xpr"
      }
    },
    {
      "cell_type": "code",
      "source": [
        "import aiohttp\n",
        "import asyncio"
      ],
      "metadata": {
        "id": "887ucMVu22hy"
      },
      "execution_count": null,
      "outputs": []
    },
    {
      "cell_type": "code",
      "source": [
        "async def get_current_temperature(city, api_key):\n",
        "    url = f'http://api.openweathermap.org/data/2.5/weather?q={city}&units=metric&appid={api_key}'\n",
        "    async with aiohttp.ClientSession() as session:\n",
        "        async with session.get(url) as response:\n",
        "            if response.status == 200:\n",
        "                data = await response.json()\n",
        "                return data['main']['temp']\n",
        "            else:\n",
        "                return None"
      ],
      "metadata": {
        "id": "yd9EnrzK1n2d"
      },
      "execution_count": null,
      "outputs": []
    },
    {
      "cell_type": "code",
      "source": [
        "async def monitor_temperature_async(cities, api_key, historical_data):\n",
        "    current_season = get_current_season()\n",
        "    tasks = [asyncio.create_task(get_current_temperature(city, api_key)) for city in cities]\n",
        "\n",
        "    temperatures = await asyncio.gather(*tasks)\n",
        "\n",
        "    for city, temp in zip(cities, temperatures):\n",
        "        if temp is not None:\n",
        "            is_normal = is_temperature_normal(city, temp, current_season, historical_data)\n",
        "            print(f\"City: {city}, Current Temp: {temp}°C, Is Normal: {is_normal}\")\n",
        "        else:\n",
        "            print(f\"City: {city}, Unable to retrieve temperature.\")"
      ],
      "metadata": {
        "id": "DofwfOb0266H"
      },
      "execution_count": null,
      "outputs": []
    },
    {
      "cell_type": "code",
      "source": [
        "cities = ['Berlin', 'Cairo', 'Dubai', 'Beijing', 'Moscow']"
      ],
      "metadata": {
        "id": "Lz2Kil9N5wxF"
      },
      "execution_count": null,
      "outputs": []
    },
    {
      "cell_type": "code",
      "source": [
        "await monitor_temperature_async(cities, api_key, data)"
      ],
      "metadata": {
        "colab": {
          "base_uri": "https://localhost:8080/"
        },
        "id": "NICm467h5x4C",
        "outputId": "742c3423-161d-45c1-b9ca-deae01be409b"
      },
      "execution_count": null,
      "outputs": [
        {
          "output_type": "stream",
          "name": "stdout",
          "text": [
            "City: Berlin, Current Temp: 5.49°C, Is Normal: True\n",
            "City: Cairo, Current Temp: 18.42°C, Is Normal: True\n",
            "City: Dubai, Current Temp: 23.96°C, Is Normal: True\n",
            "City: Beijing, Current Temp: -6.06°C, Is Normal: True\n",
            "City: Moscow, Current Temp: -0.12°C, Is Normal: False\n"
          ]
        }
      ]
    },
    {
      "cell_type": "markdown",
      "source": [
        "Асинхронный код лучше использовать для io bound задач - в том числе для API по http - надеюсь это очевидно и мне не надо это рассписывать ; )"
      ],
      "metadata": {
        "id": "eINNaiQl6QCx"
      }
    },
    {
      "cell_type": "code",
      "source": [],
      "metadata": {
        "id": "8x65GCfR52bt"
      },
      "execution_count": null,
      "outputs": []
    }
  ]
}